{
  "cells": [
    {
      "cell_type": "markdown",
      "metadata": {},
      "source": [
        "# 03_visualization\n",
        "Generate basic sentiment visualizations."
      ]
    },
    {
      "cell_type": "code",
      "execution_count": null,
      "metadata": {},
      "outputs": [],
      "source": [
        "import pandas as pd\n",
        "import matplotlib.pyplot as plt\n",
        "import seaborn as sns\n",
        "from wordcloud import WordCloud\n",
        "\ndf = pd.read_csv('../data/processed/twitter_sentiment_labeled.csv')\n",
        "\nplt.figure(figsize=(12,6))\n",
        "sns.lineplot(x=pd.to_datetime(df['date']), y=df['vader_score'])\n",
        "plt.title('VADER Sentiment Over Time')\n",
        "plt.savefig('../outputs/vader_timeseries.png')\n",
        "\nplt.figure(figsize=(8,5))\n",
        "sns.countplot(x='roberta_label', data=df)\n",
        "plt.title('RoBERTa Sentiment Labels')\n",
        "plt.savefig('../outputs/roberta_label_counts.png')\n",
        "\ntext = ' '.join(df['content'].dropna())\n",
        "wordcloud = WordCloud(width=800, height=400, background_color='white').generate(text)\n",
        "plt.figure(figsize=(10,6))\n",
        "plt.imshow(wordcloud, interpolation='bilinear')\n",
        "plt.axis('off')\n",
        "plt.savefig('../outputs/wordcloud.png')"
      ]
    }
  ],
  "metadata": {
    "kernelspec": {
      "name": "python3",
      "language": "python",
      "display_name": "Python 3"
    }
  },
  "nbformat": 4,
  "nbformat_minor": 5
}