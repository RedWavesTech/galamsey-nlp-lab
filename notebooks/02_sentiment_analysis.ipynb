{
  "cells": [
    {
      "cell_type": "markdown",
      "metadata": {},
      "source": [
        "# 02_sentiment_analysis\n",
        "Apply VADER and RoBERTa sentiment analysis."
      ]
    },
    {
      "cell_type": "code",
      "execution_count": null,
      "metadata": {},
      "outputs": [],
      "source": [
        "import pandas as pd\n",
        "from nltk.sentiment.vader import SentimentIntensityAnalyzer\n",
        "from transformers import pipeline\n",
        "import nltk\n",
        "\nnltk.download('vader_lexicon')\n",
        "df = pd.read_csv('../data/raw/twitter_galamsey_tweets.csv')\n",
        "\nvader = SentimentIntensityAnalyzer()\n",
        "df['vader_score'] = df['content'].apply(lambda x: vader.polarity_scores(x)['compound'])\n",
        "\nclf = pipeline('sentiment-analysis', model='cardiffnlp/twitter-roberta-base-sentiment')\n",
        "df['roberta_label'] = df['content'].apply(lambda x: clf(x)[0]['label'])\n",
        "\ndf.to_csv('../data/processed/twitter_sentiment_labeled.csv', index=False)\n",
        "df.head()"
      ]
    }
  ],
  "metadata": {
    "kernelspec": {
      "name": "python3",
      "language": "python",
      "display_name": "Python 3"
    }
  },
  "nbformat": 4,
  "nbformat_minor": 5
}