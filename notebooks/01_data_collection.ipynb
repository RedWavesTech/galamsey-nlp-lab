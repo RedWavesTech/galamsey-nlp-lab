{
  "cells": [
    {
      "cell_type": "markdown",
      "metadata": {},
      "source": [
        "# 01_data_collection\n",
        "Basic tweet scraping example."
      ]
    },
    {
      "cell_type": "code",
      "execution_count": null,
      "metadata": {},
      "outputs": [],
      "source": [
        "import snscrape.modules.twitter as sntwitter\n",
        "import pandas as pd\n\n",
        "query = 'galamsey OR illegal mining lang:en'\n",
        "tweets = []\n",
        "limit = 100\n",
        "for tweet in sntwitter.TwitterSearchScraper(query).get_items():\n",
        "    if len(tweets) == limit:\n",
        "        break\n",
        "    tweets.append([tweet.date, tweet.id, tweet.content, tweet.user.username])\n\n",
        "df = pd.DataFrame(tweets, columns=['date', 'id', 'content', 'username'])\n",
        "df.to_csv('../data/raw/twitter_galamsey_tweets.csv', index=False)\n",
        "df.head()"
      ]
    }
  ],
  "metadata": {
    "kernelspec": {
      "name": "python3",
      "language": "python",
      "display_name": "Python 3"
    }
  },
  "nbformat": 4,
  "nbformat_minor": 5
}